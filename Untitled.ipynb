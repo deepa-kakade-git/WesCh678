{
 "cells": [
  {
   "cell_type": "code",
   "execution_count": 1,
   "id": "6b22dca7-11f9-4841-b6e0-cd396f0ca13d",
   "metadata": {},
   "outputs": [],
   "source": [
    "first_name = \"Deepa\""
   ]
  },
  {
   "cell_type": "code",
   "execution_count": 2,
   "id": "2f9f6134-7b20-4526-8764-2bbec462c755",
   "metadata": {},
   "outputs": [
    {
     "name": "stdout",
     "output_type": "stream",
     "text": [
      "DeepaDeepaDeepaDeepaDeepaDeepaDeepaDeepaDeepaDeepaDeepaDeepaDeepaDeepaDeepaDeepaDeepaDeepaDeepaDeepaDeepaDeepaDeepaDeepaDeepaDeepaDeepaDeepaDeepaDeepaDeepaDeepaDeepaDeepaDeepaDeepaDeepaDeepaDeepaDeepaDeepaDeepaDeepaDeepaDeepaDeepaDeepaDeepaDeepaDeepaDeepaDeepaDeepaDeepaDeepaDeepaDeepaDeepaDeepaDeepaDeepaDeepaDeepaDeepaDeepaDeepaDeepaDeepaDeepaDeepaDeepaDeepaDeepaDeepaDeepaDeepaDeepaDeepaDeepaDeepaDeepaDeepaDeepaDeepaDeepaDeepaDeepaDeepaDeepaDeepaDeepaDeepaDeepaDeepaDeepaDeepaDeepaDeepaDeepaDeepaDeepaDeepaDeepaDeepaDeepaDeepaDeepaDeepaDeepaDeepaDeepaDeepaDeepaDeepaDeepaDeepaDeepaDeepaDeepaDeepaDeepaDeepaDeepaDeepaDeepaDeepaDeepaDeepaDeepaDeepaDeepaDeepaDeepaDeepaDeepaDeepaDeepaDeepaDeepaDeepaDeepaDeepaDeepaDeepaDeepaDeepaDeepaDeepaDeepaDeepaDeepaDeepaDeepaDeepaDeepaDeepaDeepaDeepaDeepaDeepaDeepaDeepaDeepaDeepaDeepaDeepaDeepaDeepaDeepaDeepaDeepaDeepaDeepaDeepaDeepaDeepaDeepaDeepaDeepaDeepaDeepaDeepaDeepaDeepaDeepaDeepaDeepaDeepaDeepaDeepaDeepaDeepaDeepaDeepaDeepaDeepaDeepaDeepaDeepaDeepaDeepaDeepaDeepaDeepaDeepaDeepaDeepaDeepaDeepaDeepaDeepaDeepaDeepaDeepaDeepaDeepaDeepaDeepaDeepaDeepaDeepaDeepaDeepaDeepaDeepaDeepaDeepaDeepaDeepaDeepaDeepaDeepaDeepaDeepaDeepaDeepaDeepaDeepaDeepaDeepaDeepaDeepaDeepaDeepaDeepaDeepaDeepaDeepaDeepaDeepaDeepaDeepaDeepaDeepaDeepaDeepaDeepaDeepaDeepaDeepaDeepaDeepaDeepaDeepaDeepaDeepaDeepaDeepaDeepaDeepaDeepaDeepaDeepaDeepaDeepaDeepaDeepaDeepaDeepaDeepaDeepaDeepaDeepaDeepaDeepaDeepaDeepaDeepaDeepaDeepaDeepaDeepaDeepaDeepaDeepaDeepaDeepaDeepaDeepaDeepaDeepaDeepaDeepaDeepaDeepaDeepaDeepaDeepaDeepaDeepaDeepaDeepaDeepaDeepaDeepaDeepaDeepaDeepaDeepaDeepaDeepaDeepaDeepaDeepaDeepaDeepaDeepaDeepaDeepaDeepaDeepaDeepaDeepaDeepaDeepaDeepaDeepaDeepaDeepaDeepaDeepaDeepaDeepaDeepaDeepaDeepaDeepaDeepaDeepaDeepaDeepaDeepaDeepaDeepaDeepaDeepaDeepaDeepaDeepaDeepaDeepaDeepaDeepaDeepaDeepaDeepaDeepaDeepaDeepaDeepaDeepaDeepaDeepaDeepaDeepaDeepaDeepaDeepaDeepaDeepaDeepaDeepaDeepaDeepaDeepaDeepaDeepaDeepaDeepaDeepaDeepaDeepaDeepaDeepaDeepaDeepaDeepaDeepaDeepaDeepaDeepaDeepaDeepaDeepaDeepaDeepaDeepaDeepaDeepaDeepaDeepaDeepaDeepaDeepaDeepaDeepaDeepaDeepaDeepaDeepaDeepaDeepaDeepaDeepaDeepaDeepaDeepaDeepaDeepaDeepaDeepaDeepaDeepaDeepaDeepaDeepaDeepaDeepaDeepaDeepaDeepaDeepaDeepaDeepaDeepaDeepaDeepaDeepaDeepaDeepaDeepaDeepaDeepaDeepaDeepaDeepaDeepaDeepaDeepaDeepaDeepaDeepaDeepaDeepaDeepaDeepaDeepaDeepaDeepaDeepaDeepaDeepaDeepaDeepaDeepaDeepaDeepaDeepaDeepaDeepaDeepaDeepaDeepaDeepaDeepaDeepaDeepaDeepaDeepaDeepaDeepaDeepaDeepaDeepaDeepaDeepaDeepaDeepaDeepaDeepa\n"
     ]
    }
   ],
   "source": [
    "print(first_name * 500)"
   ]
  },
  {
   "cell_type": "code",
   "execution_count": 4,
   "id": "23f58d37-51b0-44fd-bbbb-24ba550c127b",
   "metadata": {},
   "outputs": [
    {
     "ename": "SyntaxError",
     "evalue": "invalid syntax (458682515.py, line 1)",
     "output_type": "error",
     "traceback": [
      "\u001b[0;36m  Cell \u001b[0;32mIn[4], line 1\u001b[0;36m\u001b[0m\n\u001b[0;31m    def greet(name string)\u001b[0m\n\u001b[0m                   ^\u001b[0m\n\u001b[0;31mSyntaxError\u001b[0m\u001b[0;31m:\u001b[0m invalid syntax\n"
     ]
    }
   ],
   "source": [
    "def greet(name string)"
   ]
  },
  {
   "cell_type": "code",
   "execution_count": 5,
   "id": "90f0f7b1-3181-4d2b-9373-6536a28327bf",
   "metadata": {},
   "outputs": [
    {
     "ename": "SyntaxError",
     "evalue": "expected ':' (3645061575.py, line 1)",
     "output_type": "error",
     "traceback": [
      "\u001b[0;36m  Cell \u001b[0;32mIn[5], line 1\u001b[0;36m\u001b[0m\n\u001b[0;31m    def greet(name)\u001b[0m\n\u001b[0m                   ^\u001b[0m\n\u001b[0;31mSyntaxError\u001b[0m\u001b[0;31m:\u001b[0m expected ':'\n"
     ]
    }
   ],
   "source": [
    "def greet(name)"
   ]
  },
  {
   "cell_type": "code",
   "execution_count": 6,
   "id": "53ab4d46-407a-4aed-b265-cb8b4993a009",
   "metadata": {},
   "outputs": [
    {
     "ename": "SyntaxError",
     "evalue": "invalid syntax (3806667709.py, line 1)",
     "output_type": "error",
     "traceback": [
      "\u001b[0;36m  Cell \u001b[0;32mIn[6], line 1\u001b[0;36m\u001b[0m\n\u001b[0;31m    define greet(name):\u001b[0m\n\u001b[0m           ^\u001b[0m\n\u001b[0;31mSyntaxError\u001b[0m\u001b[0;31m:\u001b[0m invalid syntax\n"
     ]
    }
   ],
   "source": [
    "define greet(name):\n"
   ]
  },
  {
   "cell_type": "code",
   "execution_count": 7,
   "id": "1c521991-b354-41f2-9a8c-6117f9eb91a3",
   "metadata": {},
   "outputs": [
    {
     "ename": "SyntaxError",
     "evalue": "incomplete input (3010595499.py, line 1)",
     "output_type": "error",
     "traceback": [
      "\u001b[0;36m  Cell \u001b[0;32mIn[7], line 1\u001b[0;36m\u001b[0m\n\u001b[0;31m    def greet(name):\u001b[0m\n\u001b[0m                    ^\u001b[0m\n\u001b[0;31mSyntaxError\u001b[0m\u001b[0;31m:\u001b[0m incomplete input\n"
     ]
    }
   ],
   "source": [
    "def greet(name):"
   ]
  },
  {
   "cell_type": "code",
   "execution_count": 8,
   "id": "c1b8e260-7431-4abc-9924-2975063823ea",
   "metadata": {},
   "outputs": [],
   "source": [
    "def greet(name):\n",
    "    return \"Hello\" + name"
   ]
  },
  {
   "cell_type": "code",
   "execution_count": 10,
   "id": "e22f3cc3-f4a3-4863-83ee-83cf8258ea70",
   "metadata": {},
   "outputs": [
    {
     "data": {
      "text/plain": [
       "'HelloJohn'"
      ]
     },
     "execution_count": 10,
     "metadata": {},
     "output_type": "execute_result"
    }
   ],
   "source": [
    "greet(\"John\")"
   ]
  },
  {
   "cell_type": "code",
   "execution_count": 18,
   "id": "764f774d-7b38-4837-9041-04b3bc7e480c",
   "metadata": {},
   "outputs": [],
   "source": [
    "def name_input():\n",
    "    return inout(\"What is your name?\\n\")"
   ]
  },
  {
   "cell_type": "code",
   "execution_count": 22,
   "id": "2e5b9bbd-4f31-434f-9bd9-78000bcc4948",
   "metadata": {},
   "outputs": [
    {
     "ename": "NameError",
     "evalue": "name 'inout' is not defined",
     "output_type": "error",
     "traceback": [
      "\u001b[0;31m---------------------------------------------------------------------------\u001b[0m",
      "\u001b[0;31mNameError\u001b[0m                                 Traceback (most recent call last)",
      "Cell \u001b[0;32mIn[22], line 1\u001b[0m\n\u001b[0;32m----> 1\u001b[0m name \u001b[38;5;241m=\u001b[39m \u001b[43mname_input\u001b[49m\u001b[43m(\u001b[49m\u001b[43m)\u001b[49m\n",
      "Cell \u001b[0;32mIn[18], line 2\u001b[0m, in \u001b[0;36mname_input\u001b[0;34m()\u001b[0m\n\u001b[1;32m      1\u001b[0m \u001b[38;5;28;01mdef\u001b[39;00m \u001b[38;5;21mname_input\u001b[39m():\n\u001b[0;32m----> 2\u001b[0m     \u001b[38;5;28;01mreturn\u001b[39;00m \u001b[43minout\u001b[49m(\u001b[38;5;124m\"\u001b[39m\u001b[38;5;124mWhat is your name?\u001b[39m\u001b[38;5;130;01m\\n\u001b[39;00m\u001b[38;5;124m\"\u001b[39m)\n",
      "\u001b[0;31mNameError\u001b[0m: name 'inout' is not defined"
     ]
    }
   ],
   "source": [
    "name = name_input()"
   ]
  },
  {
   "cell_type": "code",
   "execution_count": 20,
   "id": "31fc7bb8-aea7-4d72-944b-b78739696c08",
   "metadata": {},
   "outputs": [
    {
     "ename": "TypeError",
     "evalue": "can only concatenate str (not \"function\") to str",
     "output_type": "error",
     "traceback": [
      "\u001b[0;31m---------------------------------------------------------------------------\u001b[0m",
      "\u001b[0;31mTypeError\u001b[0m                                 Traceback (most recent call last)",
      "Cell \u001b[0;32mIn[20], line 1\u001b[0m\n\u001b[0;32m----> 1\u001b[0m \u001b[43mgreet\u001b[49m\u001b[43m(\u001b[49m\u001b[43mname\u001b[49m\u001b[43m)\u001b[49m\n",
      "Cell \u001b[0;32mIn[8], line 2\u001b[0m, in \u001b[0;36mgreet\u001b[0;34m(name)\u001b[0m\n\u001b[1;32m      1\u001b[0m \u001b[38;5;28;01mdef\u001b[39;00m \u001b[38;5;21mgreet\u001b[39m(name):\n\u001b[0;32m----> 2\u001b[0m     \u001b[38;5;28;01mreturn\u001b[39;00m \u001b[38;5;124;43m\"\u001b[39;49m\u001b[38;5;124;43mHello\u001b[39;49m\u001b[38;5;124;43m\"\u001b[39;49m\u001b[43m \u001b[49m\u001b[38;5;241;43m+\u001b[39;49m\u001b[43m \u001b[49m\u001b[43mname\u001b[49m\n",
      "\u001b[0;31mTypeError\u001b[0m: can only concatenate str (not \"function\") to str"
     ]
    }
   ],
   "source": [
    "greet(name)"
   ]
  },
  {
   "cell_type": "code",
   "execution_count": 23,
   "id": "a8392b19-52a3-4d69-8d34-84c30dda90fb",
   "metadata": {},
   "outputs": [
    {
     "name": "stdin",
     "output_type": "stream",
     "text": [
      "What is your name?\n",
      " Deepa\n"
     ]
    },
    {
     "name": "stdout",
     "output_type": "stream",
     "text": [
      "Hello Deepa\n"
     ]
    }
   ],
   "source": [
    "def greet(name: str) -> None:\n",
    "    \"\"\" \n",
    "    This function receives a name parameter and utilizes it to print a greeting. \n",
    "    \"\"\"\n",
    "    print(\"Hello \" + name)\n",
    "\n",
    "\n",
    "def name_input() -> str:\n",
    "    \"\"\"\n",
    "    This function prompts the user for their name and returns the value provided by the user.\n",
    "    \"\"\"\n",
    "    return input(\"What is your name?\\n\")\n",
    "\n",
    "\n",
    "name = name_input()\n",
    "greet(name)"
   ]
  },
  {
   "cell_type": "code",
   "execution_count": 24,
   "id": "98ccea85-6bd9-48f5-af84-ede20b3081cd",
   "metadata": {},
   "outputs": [
    {
     "name": "stdout",
     "output_type": "stream",
     "text": [
      "4\n",
      "8\n",
      "16\n"
     ]
    }
   ],
   "source": [
    "def exponentiate(a: int, b: int) -> int:\n",
    "    \"\"\"\n",
    "    This function takes two integers (a and b) and returns the value of int a raised to the power of b.\n",
    "    \"\"\"\n",
    "    return a ** b\n",
    "\n",
    "square = lambda x: exponentiate(x, 2)\n",
    "cube = lambda x: exponentiate(x, 3)\n",
    "def raise_to_fourth_power(x: int) -> int:\n",
    "    \"\"\"\n",
    "    Given an integer, this function will raise it to the 4th power\n",
    "    \"\"\"\n",
    "    return exponentiate(x, 4)\n",
    "\n",
    "\n",
    "print(square(2))\n",
    "print(cube(2))\n",
    "print(raise_to_fourth_power(2))\n"
   ]
  },
  {
   "cell_type": "code",
   "execution_count": 25,
   "id": "6fbd85dd-3531-4370-8023-537787fe958c",
   "metadata": {},
   "outputs": [
    {
     "name": "stdout",
     "output_type": "stream",
     "text": [
      "Please choose a language : \n",
      "1 - English \n",
      "1 - Spanish \n",
      "1 - Portuguese \n"
     ]
    },
    {
     "name": "stdin",
     "output_type": "stream",
     "text": [
      " 1\n",
      "What is your name?\n",
      " Deepa\n"
     ]
    },
    {
     "name": "stdout",
     "output_type": "stream",
     "text": [
      "Hello Deepa\n"
     ]
    }
   ],
   "source": [
    "def language_input() -> int:\n",
    "    print( \"Please choose a language : \")\n",
    "    print (\"1 - English \")\n",
    "    print (\"1 - Spanish \")\n",
    "    print (\"1 - Portuguese \")\n",
    "    return int(input())\n",
    "\n",
    "def name_input(lang_choice: int)-> str:\n",
    "    prompt = None\n",
    "\n",
    "    if lang_choice == 2:\n",
    "        prompt = \"¿Cómo te llamas?\\n\"\n",
    "    elif lang_choice == 3:\n",
    "        prompt = \"Qual é o seu nome?\\n\"\n",
    "    else:\n",
    "        prompt = \"What is your name?\\n\"\n",
    "    return input(prompt)\n",
    "    \n",
    "def greet(name: str, lang_choice: int)-> None:\n",
    "    greeting = None\n",
    "\n",
    "    if lang_choice == 2 :\n",
    "        greeting = \"Hola\" + name\n",
    "    elif lang_choice == 3:\n",
    "        greeting = \"Olá \" + name\n",
    "    else:\n",
    "        greeting = \"Hello \" + name\n",
    "    \n",
    "    print(greeting)\n",
    "\n",
    "lang_choice = language_input()\n",
    "name = name_input(lang_choice)\n",
    "greet(name , lang_choice)"
   ]
  },
  {
   "cell_type": "code",
   "execution_count": 26,
   "id": "f6b6592c-7c04-40bf-a657-c7dbf4bf1c31",
   "metadata": {},
   "outputs": [
    {
     "ename": "NameError",
     "evalue": "name 'python3' is not defined",
     "output_type": "error",
     "traceback": [
      "\u001b[0;31m---------------------------------------------------------------------------\u001b[0m",
      "\u001b[0;31mNameError\u001b[0m                                 Traceback (most recent call last)",
      "Cell \u001b[0;32mIn[26], line 1\u001b[0m\n\u001b[0;32m----> 1\u001b[0m \u001b[43mpython3\u001b[49m \u001b[38;5;241m-\u001b[39m\u001b[38;5;241m-\u001b[39mversion\n",
      "\u001b[0;31mNameError\u001b[0m: name 'python3' is not defined"
     ]
    }
   ],
   "source": [
    "python3 --version"
   ]
  },
  {
   "cell_type": "code",
   "execution_count": 27,
   "id": "3d30e568-6d86-4bb0-b9d2-f02b052fa3bd",
   "metadata": {},
   "outputs": [
    {
     "name": "stdout",
     "output_type": "stream",
     "text": [
      "Python 3.12.2\n"
     ]
    }
   ],
   "source": [
    "!python3 --version\n"
   ]
  },
  {
   "cell_type": "code",
   "execution_count": null,
   "id": "ff6c6a3d-376d-4dcd-833f-eeb9efe9f91d",
   "metadata": {},
   "outputs": [],
   "source": []
  }
 ],
 "metadata": {
  "kernelspec": {
   "display_name": "Python 3 (ipykernel)",
   "language": "python",
   "name": "python3"
  },
  "language_info": {
   "codemirror_mode": {
    "name": "ipython",
    "version": 3
   },
   "file_extension": ".py",
   "mimetype": "text/x-python",
   "name": "python",
   "nbconvert_exporter": "python",
   "pygments_lexer": "ipython3",
   "version": "3.12.2"
  }
 },
 "nbformat": 4,
 "nbformat_minor": 5
}
