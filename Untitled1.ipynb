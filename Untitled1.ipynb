{
 "cells": [
  {
   "cell_type": "code",
   "execution_count": null,
   "id": "d1143ec4-ae7c-4597-968d-dcf975735919",
   "metadata": {},
   "outputs": [
    {
     "name": "stdout",
     "output_type": "stream",
     "text": [
      "Channels:\n",
      " - defaults\n",
      "Platform: osx-arm64\n",
      "Collecting package metadata (repodata.json): done\n",
      "Solving environment: done\n",
      "\n",
      "## Package Plan ##\n",
      "\n",
      "  environment location: /Users/deepa/Library/jupyterlab-desktop/jlab_server/envs/new_env\n",
      "\n",
      "  added / updated specs:\n",
      "    - python=3.9.6\n",
      "\n",
      "\n",
      "The following packages will be downloaded:\n",
      "\n",
      "    package                    |            build\n",
      "    ---------------------------|-----------------\n",
      "    expat-2.5.0                |       h313beb8_0         144 KB\n",
      "    libcxx-14.0.6              |       h848a8c0_0         965 KB\n",
      "    libffi-3.4.4               |       hca03da5_0         120 KB\n",
      "    libiconv-1.16              |       h1a28f6b_2         706 KB\n",
      "    ncurses-6.4                |       h313beb8_0         884 KB\n",
      "    openssl-1.1.1w             |       h1a28f6b_0         3.1 MB\n",
      "    pip-23.3.1                 |   py39hca03da5_0         2.6 MB\n",
      "    python-3.9.6               |       hc70090a_5        10.0 MB\n",
      "    readline-8.2               |       h1a28f6b_0         353 KB\n",
      "    setuptools-68.2.2          |   py39hca03da5_0         933 KB\n",
      "    sqlite-3.41.2              |       h80987f9_0         1.1 MB\n",
      "    tk-8.6.12                  |       hb8d0fd4_0         2.9 MB\n",
      "    tzdata-2024a               |       h04d1e81_0         116 KB\n",
      "    wheel-0.41.2               |   py39hca03da5_0         107 KB\n",
      "    xz-5.4.6                   |       h80987f9_0         372 KB\n",
      "    zlib-1.2.13                |       h5a0b063_0          82 KB\n",
      "    ------------------------------------------------------------\n",
      "                                           Total:        24.5 MB\n",
      "\n",
      "The following NEW packages will be INSTALLED:\n",
      "\n",
      "  ca-certificates    pkgs/main/osx-arm64::ca-certificates-2024.3.11-hca03da5_0 \n",
      "  expat              pkgs/main/osx-arm64::expat-2.5.0-h313beb8_0 \n",
      "  libcxx             pkgs/main/osx-arm64::libcxx-14.0.6-h848a8c0_0 \n",
      "  libffi             pkgs/main/osx-arm64::libffi-3.4.4-hca03da5_0 \n",
      "  libiconv           pkgs/main/osx-arm64::libiconv-1.16-h1a28f6b_2 \n",
      "  ncurses            pkgs/main/osx-arm64::ncurses-6.4-h313beb8_0 \n",
      "  openssl            pkgs/main/osx-arm64::openssl-1.1.1w-h1a28f6b_0 \n",
      "  pip                pkgs/main/osx-arm64::pip-23.3.1-py39hca03da5_0 \n",
      "  python             pkgs/main/osx-arm64::python-3.9.6-hc70090a_5 \n",
      "  readline           pkgs/main/osx-arm64::readline-8.2-h1a28f6b_0 \n",
      "  setuptools         pkgs/main/osx-arm64::setuptools-68.2.2-py39hca03da5_0 \n",
      "  sqlite             pkgs/main/osx-arm64::sqlite-3.41.2-h80987f9_0 \n",
      "  tk                 pkgs/main/osx-arm64::tk-8.6.12-hb8d0fd4_0 \n",
      "  tzdata             pkgs/main/noarch::tzdata-2024a-h04d1e81_0 \n",
      "  wheel              pkgs/main/osx-arm64::wheel-0.41.2-py39hca03da5_0 \n",
      "  xz                 pkgs/main/osx-arm64::xz-5.4.6-h80987f9_0 \n",
      "  zlib               pkgs/main/osx-arm64::zlib-1.2.13-h5a0b063_0 \n",
      "\n",
      "\n",
      "Proceed ([y]/n)? "
     ]
    }
   ],
   "source": [
    "conda create -n new_env python=3.9.6\n"
   ]
  },
  {
   "cell_type": "code",
   "execution_count": null,
   "id": "1f59db7e-a413-4959-987c-fc6b9b5f096c",
   "metadata": {},
   "outputs": [],
   "source": [
    "y"
   ]
  },
  {
   "cell_type": "code",
   "execution_count": null,
   "id": "994ddd8e-3141-4b68-a1c0-5d2aac1d9454",
   "metadata": {},
   "outputs": [],
   "source": [
    "conda activate myenv"
   ]
  },
  {
   "cell_type": "code",
   "execution_count": null,
   "id": "7b4ffc7f-6425-4b86-8f7d-30a0a667703f",
   "metadata": {},
   "outputs": [],
   "source": [
    "pip install ipykernel"
   ]
  },
  {
   "cell_type": "code",
   "execution_count": null,
   "id": "5d999e65-401d-42f1-9628-86844ddaa8bc",
   "metadata": {},
   "outputs": [],
   "source": [
    "!python3 --version"
   ]
  },
  {
   "cell_type": "code",
   "execution_count": null,
   "id": "e11139f5-dc9b-4188-a32c-3eef2edfa386",
   "metadata": {},
   "outputs": [],
   "source": []
  }
 ],
 "metadata": {
  "kernelspec": {
   "display_name": "Python 3 (ipykernel)",
   "language": "python",
   "name": "python3"
  },
  "language_info": {
   "codemirror_mode": {
    "name": "ipython",
    "version": 3
   },
   "file_extension": ".py",
   "mimetype": "text/x-python",
   "name": "python",
   "nbconvert_exporter": "python",
   "pygments_lexer": "ipython3",
   "version": "3.12.2"
  }
 },
 "nbformat": 4,
 "nbformat_minor": 5
}
